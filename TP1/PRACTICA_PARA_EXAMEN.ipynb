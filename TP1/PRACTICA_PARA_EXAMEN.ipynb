{
  "nbformat": 4,
  "nbformat_minor": 0,
  "metadata": {
    "colab": {
      "provenance": [],
      "authorship_tag": "ABX9TyOVkM7y0b9b/mZ26x78t9ha",
      "include_colab_link": true
    },
    "kernelspec": {
      "name": "python3",
      "display_name": "Python 3"
    },
    "language_info": {
      "name": "python"
    }
  },
  "cells": [
    {
      "cell_type": "markdown",
      "metadata": {
        "id": "view-in-github",
        "colab_type": "text"
      },
      "source": [
        "<a href=\"https://colab.research.google.com/github/LuisMendezTEC/Proyecto-Programado-1/blob/main/TP1/PRACTICA_PARA_EXAMEN.ipynb\" target=\"_parent\"><img src=\"https://colab.research.google.com/assets/colab-badge.svg\" alt=\"Open In Colab\"/></a>"
      ]
    },
    {
      "cell_type": "code",
      "execution_count": null,
      "metadata": {
        "colab": {
          "base_uri": "https://localhost:8080/"
        },
        "id": "nHfFOgDlmeoP",
        "outputId": "584e70bd-5e5f-4614-8dc8-e8848101f3dc"
      },
      "outputs": [
        {
          "output_type": "stream",
          "name": "stdout",
          "text": [
            "El resultado en decimal es:  4\n",
            "El resultado en binario es:  100\n"
          ]
        }
      ],
      "source": [
        "def bin(a):\n",
        "  s=0\n",
        "  c=0\n",
        "  while a>=1:\n",
        "    d=a%10\n",
        "    a=a//10\n",
        "    s=s+d*pow(2,c)\n",
        "    c=c+1\n",
        "  print(\"El resultado en decimal es: \" ,str(s))\n",
        "(bin(100))\n",
        "\n",
        "def dec(n):\n",
        "  binario=\"\"\n",
        "  while n//2>0: \n",
        "    binario= str(n%2)+binario\n",
        "    n=n//2\n",
        "  print(\"El resultado en binario es: \",str(n)+binario)\n",
        "(dec(4))"
      ]
    },
    {
      "cell_type": "code",
      "source": [
        "def bin(a):\n",
        "  x=int(input((\"Número que desea eliminar: \")))\n",
        "  s=0\n",
        "  c=0\n",
        "  p=1\n",
        "  while a>0:\n",
        "    d=a%10\n",
        "    if d!=x: \n",
        "      s=s+d*p\n",
        "      c=c+1\n",
        "      p=p*10\n",
        "    a=a//10\n",
        "  return s\n",
        "  print(\"Número: \",str(s))\n",
        "bin(2342342)"
      ],
      "metadata": {
        "id": "S4rbdVavwVoF",
        "colab": {
          "base_uri": "https://localhost:8080/"
        },
        "outputId": "df1882c7-4ce6-4003-cd1b-ae230117985d"
      },
      "execution_count": null,
      "outputs": [
        {
          "name": "stdout",
          "output_type": "stream",
          "text": [
            "Número que desea eliminar: 2\n"
          ]
        },
        {
          "output_type": "execute_result",
          "data": {
            "text/plain": [
              "3434"
            ]
          },
          "metadata": {},
          "execution_count": 1
        }
      ]
    },
    {
      "cell_type": "code",
      "source": [
        "a=int(input(\"Número que desea: \"))\n",
        "x=int(input((\"Digito que desea eliminar: \")))\n",
        "s=0\n",
        "p=1\n",
        "while a>0:\n",
        "  d=a%10\n",
        "  if d!=x: \n",
        "    s=s+d*p\n",
        "    p=p*10\n",
        "  a=a//10\n",
        "print(\"Número: \"+str(s))"
      ],
      "metadata": {
        "colab": {
          "base_uri": "https://localhost:8080/"
        },
        "id": "x6Ulk0pMKR_T",
        "outputId": "2367ee85-8317-420e-994e-6760ec382669"
      },
      "execution_count": null,
      "outputs": [
        {
          "output_type": "stream",
          "name": "stdout",
          "text": [
            "Número que desea: 121\n",
            "Digito que desea eliminar: 1\n",
            "Número: 2\n"
          ]
        }
      ]
    },
    {
      "cell_type": "code",
      "source": [
        "print(\"hello world\")"
      ],
      "metadata": {
        "id": "Re-fcxuNAmZL",
        "outputId": "e5dd1e26-cecf-4faf-84a6-c596d42c460f",
        "colab": {
          "base_uri": "https://localhost:8080/"
        }
      },
      "execution_count": null,
      "outputs": [
        {
          "output_type": "stream",
          "name": "stdout",
          "text": [
            "hello world\n"
          ]
        }
      ]
    }
  ]
}